{
 "cells": [
  {
   "cell_type": "markdown",
   "metadata": {},
   "source": [
    "# PHYS 20323/60323 Homework Week 8\n",
    "\n",
    "FALL 2022\n"
   ]
  },
  {
   "cell_type": "markdown",
   "metadata": {},
   "source": [
    "### 1) Altitude of a satellite\n",
    "\n",
    "A satellite is to be launched into a circular orbit around the Earth so that it orbits the planet once every T seconds.\n",
    "\n",
    "The altitude h above the Earth’s surface that the satellite must have is:\n",
    "\n",
    "$$h = \\left( \\frac{G M T^2}{4\\pi^2} \\right)^{1/3} - R$$\n",
    "\n",
    "where $G = 6.67 \\times 10^{-11}$ m$^3$ kg$^{-1}$ s$^{-2}$\n",
    "is Newton's gravitational constant, $M = 5.97 \\times 10^{24}$ kg is the mass of the Earth, and $R = 6371$ km is its radius. (6,371,000 meters)\n",
    "\n",
    "#### Write a program that asks the user to enter the desired value of T and then calculates and prints out the correct altitude in meters.\n"
   ]
  },
  {
   "cell_type": "code",
   "execution_count": 26,
   "metadata": {},
   "outputs": [
    {
     "name": "stdout",
     "output_type": "stream",
     "text": [
      "Time In Seconds 90\n",
      "-5937081.184424371\n"
     ]
    }
   ],
   "source": [
    "import math\n",
    "t = float(input(\"Time In Seconds \"))\n",
    "g=6.67*(10**(-11)) \n",
    "m= 5.97*(10**(24))\n",
    "\n",
    "h=(((g)*(m)*((t)**2))/(4*((math.pi)**2)))**(1/3) - 6371000\n",
    "print(h)\n"
   ]
  },
  {
   "cell_type": "markdown",
   "metadata": {},
   "source": [
    "Use your program to calculate the altitudes of satellites that orbit the Earth once\n",
    "a day (so-called “geosynchronous” orbit), once every 90 minutes, and once every\n",
    "45 minutes. What do you conclude from the last of these calculations?\n",
    "\n",
    "\n",
    "\n"
   ]
  },
  {
   "cell_type": "code",
   "execution_count": 25,
   "metadata": {},
   "outputs": [
    {
     "name": "stdout",
     "output_type": "stream",
     "text": [
      "Time In Minutes90 90\n",
      "279321.62537285965\n",
      "Time In Minutes45 45\n",
      "-2181559.8978108233\n"
     ]
    }
   ],
   "source": [
    "import math\n",
    "t = float(input(\"Time In Minutes90 \"))\n",
    "g=6.67*(10**(-11)) \n",
    "m= 5.97*(10**(24))\n",
    "\n",
    "#convert t to t1 and change minutes to seconds \n",
    "t1= (t)*60\n",
    "\n",
    "\n",
    "h=(((g)*(m)*((t1)**2))/(4*((math.pi)**2)))**(1/3) - 6371000\n",
    "\n",
    "print(h)\n",
    "\n",
    "import math\n",
    "t5 = float(input(\"Time In Minutes45 \"))\n",
    "g5 = 6.67*(10**(-11)) \n",
    "m5 = 5.97*(10**(24))\n",
    "\n",
    "#convert t to t1 and change minutes to seconds \n",
    "t6= (t5)*60\n",
    "\n",
    "\n",
    "h5=(((g5)*(m5)*((t6)**2))/(4*((math.pi)**2)))**(1/3) - 6371000\n",
    "\n",
    "\n",
    "print(h5)\n",
    "\n",
    "#280k meters? 280 km\n",
    "#-2million???"
   ]
  },
  {
   "cell_type": "markdown",
   "metadata": {},
   "source": [
    "Technically a geosynchronous satellite is one that orbits the Earth once persidereal\n",
    "day, which is 23.93 hours, not 24 hours. Why is this? And how much difference\n",
    "will it make to the altitude of the satellite?"
   ]
  },
  {
   "cell_type": "code",
   "execution_count": null,
   "metadata": {},
   "outputs": [],
   "source": [
    "it will increase the altitude of the satellite "
   ]
  },
  {
   "cell_type": "markdown",
   "metadata": {},
   "source": [
    "### 2) Special Relativity\n",
    "\n",
    "A spaceship travels from Earth in a straight line at a (relativistic)\n",
    "speed $v$ to another planet $x$ light years away. Write a program to ask\n",
    "the user for the value of $x$ and the speed $v$ as a fraction of the speed\n",
    "of light, then print out the time in years that the spaceship takes to\n",
    "reach its destination (a) in the rest frame of an observer on Earth\n",
    "and (b) as perceived by a passenger on board the ship.\n",
    "\n",
    "$$x' = \\gamma (x - vt)$$\n",
    "\n",
    "$$t' = \\gamma \\left(t - \\frac{v x}{c^2}\\right)$$\n",
    "\n",
    "$$\\gamma = \\frac{1}{\\sqrt{1 - \\frac{v^2}{c^2}}}$$\n"
   ]
  },
  {
   "cell_type": "code",
   "execution_count": 16,
   "metadata": {},
   "outputs": [
    {
     "name": "stdout",
     "output_type": "stream",
     "text": [
      "x=10 10\n",
      "v as fraction of speed of light= .98\n",
      "3.403715257124001e-08\n",
      "5.025189076296055\n",
      "0.0\n",
      "6.773307840653051e-09\n"
     ]
    }
   ],
   "source": [
    "import math\n",
    "\n",
    "x= float(input(\"x=10 \"))\n",
    "v= float(input(\"v= \"))\n",
    "v = v*c\n",
    "c= 299792458\n",
    "\n",
    "t= x/v\n",
    "\n",
    "y= (1/(math.sqrt(1-(((v)**2)/((c)**2)))))\n",
    "\n",
    "xP= y*(x-((v)*(t)))\n",
    "\n",
    "tP= y*(t-(((v)*(x))/(c)**2))\n",
    "\n",
    "print(t)\n",
    "print(y)\n",
    "print(xP)\n",
    "print(tP)\n",
    "\n",
    "#done"
   ]
  },
  {
   "cell_type": "markdown",
   "metadata": {},
   "source": [
    "#### Use your program to calculate the answers for a planet 10 light years away with $v = 0.90c$,  $v = 0.98c$, $v = 0.999c$."
   ]
  },
  {
   "cell_type": "code",
   "execution_count": null,
   "metadata": {},
   "outputs": [],
   "source": []
  },
  {
   "cell_type": "markdown",
   "metadata": {},
   "source": [
    "### 3) The quadratic equation\n",
    "\n",
    " Write a program that takes as input three numbers, $a$, $b$, and $c$, and prints out the two solutions to the quadratic equation $ax^2 + bx + c = 0$ using the standard\n",
    "formula:\n",
    "\n",
    "$$x = \\frac{-b \\pm \\sqrt{b^2 - 4ac}}{2a}$$\n",
    "\n",
    "Use your program to compute the solutions of $0.001x^2 + 1000x + 0.001 = 0$."
   ]
  },
  {
   "cell_type": "code",
   "execution_count": 24,
   "metadata": {},
   "outputs": [
    {
     "name": "stdout",
     "output_type": "stream",
     "text": [
      "-9.999894245993346e-07 -999999.999999\n"
     ]
    }
   ],
   "source": [
    "import math\n",
    "\n",
    "a=.001\n",
    "b=1000\n",
    "c=.001\n",
    "\n",
    "x1= (-b + ((math.sqrt((b**2)-(4*(a)*(c))))))/(2*(a))\n",
    "\n",
    "x2= (-b - ((math.sqrt((b**2)-(4*(a)*(c))))))/(2*(a))\n",
    "\n",
    "print(x1,x2)\n",
    "\n",
    "#done"
   ]
  },
  {
   "cell_type": "markdown",
   "metadata": {},
   "source": [
    "There is another way to write the solutions to a quadratic equation. Multiplying top and bottom of the solution above by $-b \\mp \\sqrt{b^2 - 4ac}$, show that the solutions\n",
    "can also be written as:\n",
    "\n",
    "$$x = \\frac{2c}{-b \\mp \\sqrt{b^2 - 4ac}}$$\n",
    "\n",
    "Add further lines to your program to print these values in addition to the earlier ones and again use the program to solve $0.001x^2 + 1000x + 0.001 = 0$. What do you see? How do you explain it?"
   ]
  },
  {
   "cell_type": "code",
   "execution_count": 23,
   "metadata": {},
   "outputs": [
    {
     "name": "stdout",
     "output_type": "stream",
     "text": [
      "-1.000000000001e-06 -1000010.5755125057\n"
     ]
    }
   ],
   "source": [
    "import math\n",
    "\n",
    "a=.001\n",
    "b=1000\n",
    "c=.001\n",
    "\n",
    "\n",
    "x=    (2*(c))/ (-b - ((math.sqrt((b**2)-4*(a)*(c)))))\n",
    "x2=   (2*(c))/ (-b + ((math.sqrt((b**2)-4*(a)*(c)))))\n",
    "\n",
    "print(x,x2)\n",
    "\n",
    "#done\n",
    "\n"
   ]
  },
  {
   "cell_type": "markdown",
   "metadata": {},
   "source": [
    "Using what you have learned, write a new program that calculates both roots of a quadratic equation accurately in all cases."
   ]
  },
  {
   "cell_type": "code",
   "execution_count": 4,
   "metadata": {},
   "outputs": [
    {
     "name": "stdout",
     "output_type": "stream",
     "text": [
      "-9.999894245993346e-07 -999999.999999\n",
      "-1.000000000001e-06 -1000010.5755125057\n"
     ]
    }
   ],
   "source": [
    "import math\n",
    "a=.001\n",
    "b=1000\n",
    "c=.001\n",
    "x1= (-b + ((math.sqrt((b**2)-(4*(a)*(c))))))/(2*(a))\n",
    "x2= (-b - ((math.sqrt((b**2)-(4*(a)*(c))))))/(2*(a))\n",
    "print(x1,x2)\n",
    "x3=    (2*(c))/ (-b - ((math.sqrt((b**2)-4*(a)*(c)))))\n",
    "x4=   (2*(c))/ (-b + ((math.sqrt((b**2)-4*(a)*(c)))))\n",
    "print(x3,x4)"
   ]
  },
  {
   "cell_type": "code",
   "execution_count": 6,
   "metadata": {},
   "outputs": [
    {
     "name": "stdout",
     "output_type": "stream",
     "text": [
      "-9.999894245993346e-07 -999999.999999\n",
      "-1.000000000001e-06 -1000010.5755125057\n"
     ]
    }
   ],
   "source": [
    "import math\n",
    "a=.001\n",
    "b=1000\n",
    "c=.001\n",
    "inside= (4*(a)*(c))\n",
    "\n",
    "\n",
    "#inside with just ac and if its a small number then something \n",
    "\n",
    "#x1= (-b + ((math.sqrt((b**2)-(4*(a)*(c))))))/(2*(a))\n",
    "\n",
    "x1= (-b + ((math.sqrt(inside))/(2*(a))))\n",
    "        \n",
    "\n",
    "x2= (-b - ((math.sqrt((b**2)-(4*(a)*(c))))))/(2*(a))\n",
    "\n",
    "\n",
    "\n",
    "print(x1,x2)\n",
    "\n",
    "\n",
    "x3=    (2*(c))/ (-b - ((math.sqrt((b**2)-4*(a)*(c)))))\n",
    "\n",
    "\n",
    "x4=   (2*(c))/ (-b + ((math.sqrt((b**2)-4*(a)*(c)))))\n",
    "\n",
    "\n",
    "print(x3,x4)"
   ]
  },
  {
   "cell_type": "code",
   "execution_count": 5,
   "metadata": {},
   "outputs": [
    {
     "name": "stdout",
     "output_type": "stream",
     "text": [
      "Enter a:.001\n",
      "Enter b:1000\n",
      "Enter c:.001\n",
      " real and different roots \n",
      "-9.999894245993346e-07\n",
      "-999999.999999\n"
     ]
    }
   ],
   "source": [
    "#from online for reference \n",
    "import math  \n",
    "  \n",
    "\n",
    "#function for finding roots  \n",
    "def findRoots(a, b, c):  \n",
    "  \n",
    "\n",
    "    dis_form = b * b - 4 * a * c  \n",
    "    sqrt_val = math.sqrt(abs(dis_form))  \n",
    "  \n",
    "  \n",
    "    if dis_form > 0:  \n",
    "        print(\" real and different roots \")  \n",
    "        print((-b + sqrt_val) / (2 * a))  \n",
    "        print((-b - sqrt_val) / (2 * a))  \n",
    "  \n",
    "    elif dis_form == 0:  \n",
    "        print(\" real and same roots\")  \n",
    "        print(-b / (2 * a))  \n",
    "  \n",
    "  \n",
    "    else:  \n",
    "        print(\"Complex Roots\")  \n",
    "        print(- b / (2 * a), \" + i\", sqrt_val)  \n",
    "        print(- b / (2 * a), \" - i\", sqrt_val)  \n",
    "  \n",
    "  \n",
    "a = float(input('Enter a:'))  \n",
    "b = float(input('Enter b:'))  \n",
    "c = float(input('Enter c:'))  \n",
    "  \n",
    "# If a is 0, then incorrect equation  \n",
    "if a == 0:  \n",
    "    print(\"Input correct quadratic equation\")  \n",
    "else:  \n",
    "    findRoots(a, b, c)  "
   ]
  },
  {
   "cell_type": "code",
   "execution_count": null,
   "metadata": {},
   "outputs": [],
   "source": []
  },
  {
   "cell_type": "code",
   "execution_count": null,
   "metadata": {},
   "outputs": [],
   "source": []
  }
 ],
 "metadata": {
  "kernelspec": {
   "display_name": "Python 3 (ipykernel)",
   "language": "python",
   "name": "python3"
  },
  "language_info": {
   "codemirror_mode": {
    "name": "ipython",
    "version": 3
   },
   "file_extension": ".py",
   "mimetype": "text/x-python",
   "name": "python",
   "nbconvert_exporter": "python",
   "pygments_lexer": "ipython3",
   "version": "3.9.7"
  }
 },
 "nbformat": 4,
 "nbformat_minor": 4
}
