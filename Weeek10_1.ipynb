{
 "cells": [
  {
   "cell_type": "markdown",
   "metadata": {
    "slideshow": {
     "slide_type": "slide"
    }
   },
   "source": [
    "# Introduction to Scipy: Fitting data"
   ]
  },
  {
   "cell_type": "markdown",
   "metadata": {
    "slideshow": {
     "slide_type": "slide"
    }
   },
   "source": [
    "We have talked about the Numpy and Matplotlib libraries, but there is a third library that is invaluable for Scientific Analysis: [Scipy](http://www.scipy.org). Scipy is basically a very large library of functions that you can use for scientific analysis. A good place to start to find out about the top-level scientific functionality in Scipy is the [Documentation](http://docs.scipy.org/doc/scipy/reference/)."
   ]
  },
  {
   "cell_type": "markdown",
   "metadata": {
    "slideshow": {
     "slide_type": "slide"
    }
   },
   "source": [
    "Examples of the functionality include:\n",
    "\n",
    "* Integration (scipy.integrate)\n",
    "* Optimization/Fitting (scipy.optimize)\n",
    "* Interpolation (scipy.interpolate)\n",
    "* Fourier Transforms (scipy.fftpack)\n",
    "* Signal Processing (scipy.signal)\n",
    "* Linear Algebra (scipy.linalg)\n",
    "* Spatial data structures and algorithms (scipy.spatial)\n",
    "* Statistics (scipy.stats)\n",
    "* Multi-dimensional image processing (scipy.ndimage)\n",
    "\n",
    "and so on."
   ]
  },
  {
   "cell_type": "markdown",
   "metadata": {
    "slideshow": {
     "slide_type": "slide"
    }
   },
   "source": [
    "This week, we will take a look at how to fit models to data. When analyzing scientific data, fitting models to data allows us to determine the parameters of a physical system (assuming the model is correct)."
   ]
  },
  {
   "cell_type": "markdown",
   "metadata": {
    "slideshow": {
     "slide_type": "slide"
    }
   },
   "source": [
    "There are a number of routines in Scipy to help with fitting, but we will use the simplest one, ``curve_fit``, which is imported as follows:"
   ]
  },
  {
   "cell_type": "code",
   "execution_count": 1,
   "metadata": {},
   "outputs": [],
   "source": [
    "import numpy as np\n",
    "from scipy.optimize import curve_fit\n"
   ]
  },
  {
   "cell_type": "markdown",
   "metadata": {},
   "source": [
    "The full documentation for the ``curve_fit`` is available [here](http://docs.scipy.org/doc/scipy/reference/generated/scipy.optimize.curve_fit.html#scipy.optimize.curve_fit), and we will look at a simple example here, which involves fitting a straight line to a dataset."
   ]
  },
  {
   "cell_type": "markdown",
   "metadata": {
    "slideshow": {
     "slide_type": "slide"
    }
   },
   "source": [
    "We first create a fake dataset with some random noise:"
   ]
  },
  {
   "cell_type": "code",
   "execution_count": 2,
   "metadata": {},
   "outputs": [],
   "source": [
    "%matplotlib inline\n",
    "import numpy as np\n",
    "import matplotlib.pyplot as plt"
   ]
  },
  {
   "cell_type": "code",
   "execution_count": 7,
   "metadata": {},
   "outputs": [
    {
     "data": {
      "text/plain": [
       "[<matplotlib.lines.Line2D at 0x1b28dce55b0>]"
      ]
     },
     "execution_count": 7,
     "metadata": {},
     "output_type": "execute_result"
    },
    {
     "data": {
      "image/png": "[encoded data removed]",
      "text/plain": [
       "<Figure size 432x288 with 1 Axes>"
      ]
     },
     "metadata": {
      "needs_background": "light"
     },
     "output_type": "display_data"
    }
   ],
   "source": [
    "x = np.random.uniform(0., 100., 100)\n",
    "y = 3. * x + 10. + np.random.normal(0., 10., 100)\n",
    "plt.plot(x, y, '.')"
   ]
  },
  {
   "cell_type": "markdown",
   "metadata": {
    "slideshow": {
     "slide_type": "slide"
    }
   },
   "source": [
    "Let's now imagine that this is real data, and we want to determine the slope (a) and intercept (b) of the best-fit line to the data. We start off by definining a function representing the model:"
   ]
  },
  {
   "cell_type": "code",
   "execution_count": 8,
   "metadata": {},
   "outputs": [],
   "source": [
    "def line(x, a, b):\n",
    "    return a * x + b"
   ]
  },
  {
   "cell_type": "markdown",
   "metadata": {
    "slideshow": {
     "slide_type": "slide"
    }
   },
   "source": [
    "The arguments to the function should be ``x``, followed by the parameters. We can now call ``curve_fit`` to find the best-fit parameters using a least-squares fit:"
   ]
  },
  {
   "cell_type": "code",
   "execution_count": 9,
   "metadata": {},
   "outputs": [],
   "source": [
    "popt, pcov = curve_fit(line, x, y)"
   ]
  },
  {
   "cell_type": "markdown",
   "metadata": {
    "slideshow": {
     "slide_type": "slide"
    }
   },
   "source": [
    "The ``curve_fit`` function returns two items, which we can ``popt`` and ``pcov``. The ``popt`` argument are the best-fit paramters for ``a`` and ``b``:"
   ]
  },
  {
   "cell_type": "code",
   "execution_count": 10,
   "metadata": {},
   "outputs": [
    {
     "data": {
      "text/plain": [
       "array([3.01032833, 8.83455183])"
      ]
     },
     "execution_count": 10,
     "metadata": {},
     "output_type": "execute_result"
    }
   ],
   "source": [
    "popt"
   ]
  },
  {
   "cell_type": "markdown",
   "metadata": {},
   "source": [
    "which is close to the initial values of ``3`` and ``10`` used in the definition of ``y``.\n",
    "\n",
    "The reason the values are not exact is because there are only a limited number of random samples, so the best-fit slope is not going to be exactly those used in the definition of ``y``. The ``pcov`` variable contains the *covariance* matrix, which indicates the uncertainties and correlations between parameters. This is mostly useful when the data has uncertainties."
   ]
  },
  {
   "cell_type": "markdown",
   "metadata": {
    "slideshow": {
     "slide_type": "slide"
    }
   },
   "source": [
    "Let's now try and fit the data assuming each point has a vertical error (standard deviation) of +/-10:"
   ]
  },
  {
   "cell_type": "code",
   "execution_count": 11,
   "metadata": {},
   "outputs": [
    {
     "data": {
      "text/plain": [
       "<ErrorbarContainer object of 3 artists>"
      ]
     },
     "execution_count": 11,
     "metadata": {},
     "output_type": "execute_result"
    },
    {
     "data": {
      "image/png": "[encoded data removed]",
      "text/plain": [
       "<Figure size 432x288 with 1 Axes>"
      ]
     },
     "metadata": {
      "needs_background": "light"
     },
     "output_type": "display_data"
    }
   ],
   "source": [
    "e = np.repeat(10., 100)\n",
    "plt.errorbar(x, y, yerr=e, fmt=\"none\")"
   ]
  },
  {
   "cell_type": "code",
   "execution_count": 12,
   "metadata": {
    "slideshow": {
     "slide_type": "slide"
    }
   },
   "outputs": [],
   "source": [
    "popt, pcov = curve_fit(line, x, y, sigma=e)"
   ]
  },
  {
   "cell_type": "code",
   "execution_count": 13,
   "metadata": {},
   "outputs": [
    {
     "data": {
      "text/plain": [
       "array([3.01032833, 8.83455183])"
      ]
     },
     "execution_count": 13,
     "metadata": {},
     "output_type": "execute_result"
    }
   ],
   "source": [
    "popt"
   ]
  },
  {
   "cell_type": "markdown",
   "metadata": {
    "slideshow": {
     "slide_type": "slide"
    }
   },
   "source": [
    "Now ``pcov`` will contain the true variance and covariance of the parameters, so that the best-fit parameters are:"
   ]
  },
  {
   "cell_type": "code",
   "execution_count": 14,
   "metadata": {},
   "outputs": [
    {
     "name": "stdout",
     "output_type": "stream",
     "text": [
      "a = 3.010328332086954 +/- 0.03542229169725729\n",
      "b = 8.834551829134607 +/- 2.0278539201436048\n"
     ]
    }
   ],
   "source": [
    "print(\"a =\", popt[0], \"+/-\", pcov[0,0]**0.5)\n",
    "print(\"b =\", popt[1], \"+/-\", pcov[1,1]**0.5)"
   ]
  },
  {
   "cell_type": "markdown",
   "metadata": {
    "slideshow": {
     "slide_type": "slide"
    }
   },
   "source": [
    "We can now plot the best-fit line:"
   ]
  },
  {
   "cell_type": "code",
   "execution_count": 27,
   "metadata": {},
   "outputs": [
    {
     "data": {
      "text/plain": [
       "[<matplotlib.lines.Line2D at 0x1b28f28e1f0>]"
      ]
     },
     "execution_count": 27,
     "metadata": {},
     "output_type": "execute_result"
    },
    {
     "data": {
      "image/png": "[encoded data removed]",
      "text/plain": [
       "<Figure size 432x288 with 1 Axes>"
      ]
     },
     "metadata": {
      "needs_background": "light"
     },
     "output_type": "display_data"
    }
   ],
   "source": [
    "plt.errorbar(x, y, yerr=e, fmt=\"none\")\n",
    "xfine = np.linspace(0., 100., 100)  # define values to plot the function for\n",
    "plt.plot(xfine, line(xfine, popt[0], popt[1]), 'r')"
   ]
  },
  {
   "cell_type": "code",
   "execution_count": null,
   "metadata": {},
   "outputs": [],
   "source": []
  },
  {
   "cell_type": "markdown",
   "metadata": {},
   "source": [
    "You should now be able to fit simple models to datasets! Note that for more complex models, more sophisticated techniques may be required for fitting, but ``curve_fit`` will be good enough for most simple cases."
   ]
  },
  {
   "cell_type": "markdown",
   "metadata": {
    "slideshow": {
     "slide_type": "slide"
    }
   },
   "source": [
    "Note that there is a way to simplify the call to the function with the best-fit parameters, which is:\n",
    "\n",
    "    line(x, *popt)\n",
    "\n",
    "The * notation will expand a list of values into the arguments of the function. This is useful if your function has more than one or two parameters. Hence, you can do:"
   ]
  },
  {
   "cell_type": "code",
   "execution_count": 34,
   "metadata": {},
   "outputs": [
    {
     "data": {
      "text/plain": [
       "[<matplotlib.lines.Line2D at 0x1b28f59f1f0>]"
      ]
     },
     "execution_count": 34,
     "metadata": {},
     "output_type": "execute_result"
    },
    {
     "data": {
      "image/png": "[encoded data removed]",
      "text/plain": [
       "<Figure size 432x288 with 1 Axes>"
      ]
     },
     "metadata": {
      "needs_background": "light"
     },
     "output_type": "display_data"
    }
   ],
   "source": [
    "plt.errorbar(x, y, yerr=e, fmt=\"none\")\n",
    "plt.plot(xfine, line(xfine, *popt), 'r-')\n",
    "#absolute_sigma=True"
   ]
  },
  {
   "cell_type": "markdown",
   "metadata": {},
   "source": [
    "**Important Note:** the way ``curve_fit`` determines the uncertainty is to actually renormalize the errors so that the reduced $\\chi^2$ value is one, so the magnitude of the errors doesn't matter, only the relative errors. In some fields of science (such as astronomy) we do *not* renormalize the errors, so for those cases you can specify ``absolute_sigma=True`` in order to preserve the original errors."
   ]
  },
  {
   "cell_type": "markdown",
   "metadata": {},
   "source": [
    "## Exercise 1"
   ]
  },
  {
   "cell_type": "markdown",
   "metadata": {},
   "source": [
    "In the following code, we generate some random data points:"
   ]
  },
  {
   "cell_type": "code",
   "execution_count": 4,
   "metadata": {},
   "outputs": [],
   "source": [
    "x = np.random.uniform(0., 10., 100)\n",
    "y = np.polyval([1, 2, -3], x) + np.random.normal(0., 10., 100)\n",
    "e = np.random.uniform(5, 10, 100)"
   ]
  },
  {
   "cell_type": "markdown",
   "metadata": {},
   "source": [
    "Fit a line and a parabola to it and overplot the two models on top of the data:"
   ]
  },
  {
   "cell_type": "code",
   "execution_count": 6,
   "metadata": {},
   "outputs": [
    {
     "name": "stdout",
     "output_type": "stream",
     "text": [
      "a = 12.187984747189006 +/- 0.4308250579847332\n",
      "b = -20.08268986303647 +/- 2.4248447501634804\n",
      "a = 1.0261263435829842 +/- 0.12465199641454967\n",
      "b = 1.7146038122715743 +/- 1.3149578761983776\n"
     ]
    },
    {
     "data": {
      "text/plain": [
       "[<matplotlib.lines.Line2D at 0x1889a8af190>]"
      ]
     },
     "execution_count": 6,
     "metadata": {},
     "output_type": "execute_result"
    },
    {
     "data": {
      "image/png": "[encoded data removed]",
      "text/plain": [
       "<Figure size 432x288 with 1 Axes>"
      ]
     },
     "metadata": {
      "needs_background": "light"
     },
     "output_type": "display_data"
    }
   ],
   "source": [
    "from scipy.optimize import curve_fit\n",
    "import numpy as np\n",
    "import matplotlib.pyplot as plt\n",
    "\n",
    "plt.plot(x, y,'.')\n",
    "\n",
    "def line(x, a, b):\n",
    "    return a * x + b\n",
    "poptL, pcovL = curve_fit(line, x, y)\n",
    "print(\"a =\", poptL[0], \"+/-\", pcovL[0,0]**0.5)\n",
    "print(\"b =\", poptL[1], \"+/-\", pcovL[1,1]**0.5)\n",
    "\n",
    "\n",
    "def parab (x,a,b,c):\n",
    "    return ((a)*(x**2))+((b)*(x))+c\n",
    "    \n",
    "poptP, pcovP = curve_fit(parab, x, y)\n",
    "print(\"a =\", poptP[0], \"+/-\", pcovP[0,0]**0.5)\n",
    "print(\"b =\", poptP[1], \"+/-\", pcovP[1,1]**0.5)\n",
    "\n",
    "\n",
    "\n",
    "plt.errorbar(x, y, yerr=e, fmt=\"none\")\n",
    "xfine = np.linspace(0., 10., 100)  # define values to plot the function for\n",
    "plt.plot(xfine, line(xfine, poptL[0], poptL[1]), 'r')\n",
    "plt.plot(xfine, parab(xfine, poptP[0], poptP[1],poptP[2]), 'b')\n",
    "#def curve(x**2)\n"
   ]
  },
  {
   "cell_type": "markdown",
   "metadata": {},
   "source": [
    "## Exercise 2"
   ]
  },
  {
   "cell_type": "markdown",
   "metadata": {},
   "source": [
    "As before, we use the [data/munich_temperatures_average_with_bad_data.txt](data/munich_temperatures_average_with_bad_data.txt) file, which gives the temperature in Munich every day for several years:"
   ]
  },
  {
   "cell_type": "code",
   "execution_count": 10,
   "metadata": {},
   "outputs": [],
   "source": [
    "# The following code reads in the file and removes bad values\n",
    "import numpy as np\n",
    "date, temperature = np.loadtxt('munich_temperatures_average_with_bad_data.txt', unpack=True)\n",
    "keep = np.abs(temperature) < 90\n",
    "date = date[keep]\n",
    "temperature = temperature[keep]"
   ]
  },
  {
   "cell_type": "markdown",
   "metadata": {},
   "source": [
    "Fit the following function to the data:\n",
    "\n",
    "$$f(t) = a~\\cos{(2\\pi t + b)} + c$$\n",
    "\n",
    "where $t$ is the time in years. Make a plot of the data and the best-fit model in the range 2008 to 2012. What are the best-fit values of the parameters? What is the overall average temperature in Munich, and what are the typical daily average values predicted by the model for the coldest and hottest time of year? What is the meaning of the ``b`` parameter, and does its value make sense?"
   ]
  },
  {
   "cell_type": "code",
   "execution_count": 38,
   "metadata": {},
   "outputs": [
    {
     "name": "stdout",
     "output_type": "stream",
     "text": [
      "a = -9.962034672377369 +/- 0.132498378025903\n",
      "b = 12.331742861926209 +/- 0.013316526805477956\n"
     ]
    },
    {
     "data": {
      "text/plain": [
       "[<matplotlib.lines.Line2D at 0x1889edf5d30>]"
      ]
     },
     "execution_count": 38,
     "metadata": {},
     "output_type": "execute_result"
    },
    {
     "data": {
      "image/png": "[encoded data removed]",
      "text/plain": [
       "<Figure size 432x288 with 1 Axes>"
      ]
     },
     "metadata": {
      "needs_background": "light"
     },
     "output_type": "display_data"
    }
   ],
   "source": [
    "def wave (t,a,b,c):\n",
    "    return a*np.cos(2*(np.pi)*(t)+(b))+c\n",
    "\n",
    "#plt.plot(date, temperature,'.')\n",
    "\n",
    "keep2 = (date >= 2008) & (date <=2012)\n",
    "date2 = date[keep2]\n",
    "temp2 = temperature[keep2]\n",
    "plt.plot(date2, temp2,'.')\n",
    "\n",
    "poptW, pcovW = curve_fit(wave, date2, temp2)\n",
    "print(\"a =\", poptW[0], \"+/-\", pcovW[0,0]**0.5)\n",
    "print(\"b =\", poptW[1], \"+/-\", pcovW[1,1]**0.5)\n",
    "xfine = np.linspace(2008., 2012., 100)  # define values to plot the function for\n",
    "\n",
    "plt.plot(xfine, wave(xfine, poptW[0], poptW[1],poptW[2]), 'b')\n"
   ]
  },
  {
   "cell_type": "code",
   "execution_count": null,
   "metadata": {},
   "outputs": [],
   "source": []
  }
 ],
 "metadata": {
  "kernelspec": {
   "display_name": "Python 3 (ipykernel)",
   "language": "python",
   "name": "python3"
  },
  "language_info": {
   "codemirror_mode": {
    "name": "ipython",
    "version": 3
   },
   "file_extension": ".py",
   "mimetype": "text/x-python",
   "name": "python",
   "nbconvert_exporter": "python",
   "pygments_lexer": "ipython3",
   "version": "3.9.12"
  }
 },
 "nbformat": 4,
 "nbformat_minor": 2
}
