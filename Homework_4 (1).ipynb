{
 "cells": [
  {
   "cell_type": "markdown",
   "metadata": {},
   "source": [
    "# Homework 4 - Due Friday Sept 23, 5pm"
   ]
  },
  {
   "cell_type": "markdown",
   "metadata": {},
   "source": [
    "*The semi-empirical mass formula*\n",
    "\n",
    "In nuclear physics, the semi-empirical mass formula is a formula for calculating the\n",
    "approximate nuclear binding energy $B$ of an atomic nucleus with atomic number $Z$\n",
    "and mass number $A$. The formula looks like this:\n",
    "    \n",
    "$$ B = a_1 A - a_2 A^{2/3} - a_3 \\frac{Z^2}{A^{1/3}} - a_4 \\frac{(A - 2Z)^2}{A} - \\frac{a_5}{A^{1/2}} $$\n",
    "\n",
    "where, in units of millions of electron volts (MeV), the constants are $a_1 =\n",
    "15.67$, $a_2 = 17.23$, $a_3 = 0.75$, $a_4 = 93.2$, and\n",
    "\n",
    "$$ a_5  \\; =  \\;\\; \\left\\{ \\begin{array} {r@{\\quad\\tt if \\quad}l} 0 & A \\;{\\tt is\n",
    "      \\; odd}, \\\\\n",
    "    12.0 & A \\;{\\tt and}\\; Z \\;{\\tt are \\;both \\;even}, \\\\ -12.0 & A \\;{\\tt is\n",
    "     \\;  even \\; and}\\;  Z \\;{\\tt is\n",
    "  \\;  odd.} \\end{array} \\right. $$\n",
    "\n",
    "Write a function that takes as its input the values of $A$ and $Z$, and\n",
    "prints out: \n",
    "* (a) the binding energy $B$ for the corresponding atom and \n",
    "* (b) the binding energy per nucleon, which is $B/A$. \n",
    "\n",
    "Use your program to find\n",
    "the binding energy of an atom with $A = 58$ and $Z = 28$. (Hint: The\n",
    "correct answer is around 490 MeV.) \n",
    "\n",
    "Also run,  $A = 59$ and $Z = 28$ and $A = 58$ and $Z = 27$.\n"
   ]
  },
  {
   "cell_type": "code",
   "execution_count": 28,
   "metadata": {},
   "outputs": [
    {
     "name": "stdout",
     "output_type": "stream",
     "text": [
      "59\n",
      "28\n"
     ]
    },
    {
     "data": {
      "text/plain": [
       "('binding energy B= 498.144677545714',\n",
       " 'Binding energy per nucleon= 8.443130127893458')"
      ]
     },
     "execution_count": 28,
     "metadata": {},
     "output_type": "execute_result"
    }
   ],
   "source": [
    "def se_mass(A, Z):\n",
    "    a1 = 15.67\n",
    "    a2 = 17.23\n",
    "    a3 = 0.75\n",
    "    a4 = 93.2\n",
    "    a5 = 0\n",
    "    if (A%2==0 and Z%2==0):\n",
    "        a5=12\n",
    "    elif (A%2==0 and Z%2==1):\n",
    "        a5=-12\n",
    "    first= ((a1)*A)\n",
    "    second= ((a2)*(A**(2/3)))\n",
    "    third= ((a3)*((Z**2)/(A**(1/3))))\n",
    "    fourth= ((a4)*((A-(2*Z))**2)/(A))\n",
    "    fifth= ((a5)/(A**(1/2)))\n",
    "    B = first-second-third-fourth-fifth\n",
    "    return (\"binding energy B= \" + str(B), \"Binding energy per nucleon= \" + str(B/A))\n",
    "\n",
    "se_mass(int(input()),int(input()))"
   ]
  },
  {
   "cell_type": "code",
   "execution_count": 9,
   "metadata": {},
   "outputs": [
    {
     "ename": "SyntaxError",
     "evalue": "invalid syntax (Temp/ipykernel_14652/2375180327.py, line 1)",
     "output_type": "error",
     "traceback": [
      "\u001b[1;36m  File \u001b[1;32m\"C:\\Users\\seanm\\AppData\\Local\\Temp/ipykernel_14652/2375180327.py\"\u001b[1;36m, line \u001b[1;32m1\u001b[0m\n\u001b[1;33m    ODD check if number is odd is %3 =0\u001b[0m\n\u001b[1;37m        ^\u001b[0m\n\u001b[1;31mSyntaxError\u001b[0m\u001b[1;31m:\u001b[0m invalid syntax\n"
     ]
    }
   ],
   "source": []
  },
  {
   "cell_type": "code",
   "execution_count": null,
   "metadata": {},
   "outputs": [],
   "source": []
  }
 ],
 "metadata": {
  "kernelspec": {
   "display_name": "Python 3 (ipykernel)",
   "language": "python",
   "name": "python3"
  },
  "language_info": {
   "codemirror_mode": {
    "name": "ipython",
    "version": 3
   },
   "file_extension": ".py",
   "mimetype": "text/x-python",
   "name": "python",
   "nbconvert_exporter": "python",
   "pygments_lexer": "ipython3",
   "version": "3.9.7"
  }
 },
 "nbformat": 4,
 "nbformat_minor": 4
}
